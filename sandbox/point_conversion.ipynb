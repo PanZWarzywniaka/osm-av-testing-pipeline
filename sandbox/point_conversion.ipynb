{
 "cells": [
  {
   "cell_type": "code",
   "execution_count": 2,
   "metadata": {},
   "outputs": [],
   "source": [
    "import requests\n",
    "import matplotlib.pyplot as plt\n",
    "import numpy as np\n",
    "from OSMPythonTools.overpass import overpassQueryBuilder, Overpass\n",
    "from geopy import distance"
   ]
  },
  {
   "cell_type": "code",
   "execution_count": 3,
   "metadata": {},
   "outputs": [],
   "source": [
    "\n",
    "def get_street_points(street_name,bbox):\n",
    "    overpass = Overpass()\n",
    "    query = overpassQueryBuilder(bbox=bbox,\n",
    "    elementType='way',selector=f'\"name\"=\"{street_name}\"')\n",
    "\n",
    "    road_points = []\n",
    "    for e in overpass.query(query).elements():\n",
    "        for node in e.nodes():\n",
    "            road_points.append((node.lat(),node.lon()))\n",
    "\n",
    "    return road_points\n",
    "\n",
    "            "
   ]
  },
  {
   "cell_type": "code",
   "execution_count": 4,
   "metadata": {},
   "outputs": [],
   "source": [
    "SHEFFIELD_BBOX = [53.356987, -1.510101, 53.402656, -1.433196]\n",
    "road_points = get_street_points(\"Abney Street\", SHEFFIELD_BBOX)\n"
   ]
  },
  {
   "cell_type": "code",
   "execution_count": 5,
   "metadata": {},
   "outputs": [],
   "source": [
    "def middle(points):\n",
    "    return (max(points) + min(points)) / 2\n"
   ]
  },
  {
   "cell_type": "code",
   "execution_count": 15,
   "metadata": {},
   "outputs": [],
   "source": [
    "SIM_SIZE = 200\n",
    "lats = [x for x,_ in road_points] #geo x's\n",
    "lons = [y for _,y in road_points] #geo y's\n",
    "geo_center = np.array((middle(lats),middle(lons)))\n",
    "\n",
    "sim_points = []\n",
    "\n",
    "for geo_point in road_points:\n",
    "    geo_point = np.array(geo_point)\n",
    "\n",
    "    relative_to_geo_center = geo_point-geo_center\n",
    "    dist = distance.distance(geo_center, geo_point).m\n",
    "    theta = distance.atan2(relative_to_geo_center[1], relative_to_geo_center[0])\n",
    "\n",
    "    sim_x = dist * np.cos(theta)\n",
    "    sim_y = dist * np.sin(theta)\n",
    "    \n",
    "    sim_x += SIM_SIZE/2\n",
    "    sim_y += SIM_SIZE/2\n",
    "\n",
    "    sim_points.append((sim_x, sim_y))"
   ]
  },
  {
   "cell_type": "code",
   "execution_count": 14,
   "metadata": {},
   "outputs": [
    {
     "name": "stdout",
     "output_type": "stream",
     "text": [
      "[(44.08150011595894, 97.9919846356238), (83.86844279839524, 85.73576131681948), (126.7468314205182, 65.82948775929052), (133.8058019734039, 65.47346982364496), (149.646918113508, 118.17159582290294), (148.57761607896407, 138.25614110177915)]\n"
     ]
    }
   ],
   "source": [
    "print(sim_points)"
   ]
  },
  {
   "cell_type": "code",
   "execution_count": null,
   "metadata": {},
   "outputs": [],
   "source": []
  }
 ],
 "metadata": {
  "kernelspec": {
   "display_name": ".venv",
   "language": "python",
   "name": "python3"
  },
  "language_info": {
   "codemirror_mode": {
    "name": "ipython",
    "version": 3
   },
   "file_extension": ".py",
   "mimetype": "text/x-python",
   "name": "python",
   "nbconvert_exporter": "python",
   "pygments_lexer": "ipython3",
   "version": "3.7.9"
  },
  "orig_nbformat": 4,
  "vscode": {
   "interpreter": {
    "hash": "aa98e664301dc322f048da90108295bdc2b78ceb20e9b059b971340e8137d089"
   }
  }
 },
 "nbformat": 4,
 "nbformat_minor": 2
}
