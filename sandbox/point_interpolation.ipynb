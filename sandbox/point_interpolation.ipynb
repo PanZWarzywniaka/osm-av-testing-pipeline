{
 "cells": [
  {
   "cell_type": "code",
   "execution_count": 3,
   "metadata": {},
   "outputs": [],
   "source": [
    "import requests\n",
    "import matplotlib.pyplot as plt\n",
    "import numpy as np\n",
    "from OSMPythonTools.overpass import overpassQueryBuilder, Overpass\n",
    "from scipy.interpolate import LinearNDInterpolator\n",
    "from scipy.interpolate import CloughTocher2DInterpolator\n"
   ]
  },
  {
   "cell_type": "markdown",
   "metadata": {},
   "source": [
    "# Ploting"
   ]
  },
  {
   "cell_type": "code",
   "execution_count": 2,
   "metadata": {},
   "outputs": [],
   "source": [
    "\n",
    "def get_street_points(street_name,bbox):\n",
    "    overpass = Overpass()\n",
    "    query = overpassQueryBuilder(bbox=bbox,\n",
    "    elementType='way',selector=f'\"name\"=\"{street_name}\"')\n",
    "\n",
    "    road_points = []\n",
    "    for e in overpass.query(query).elements():\n",
    "        for node in e.nodes():\n",
    "            road_points.append((node.lat(),node.lon()))\n",
    "            \n",
    "    return road_points\n",
    "\n",
    "            "
   ]
  },
  {
   "cell_type": "code",
   "execution_count": 5,
   "metadata": {},
   "outputs": [
    {
     "data": {
      "text/plain": [
       "36"
      ]
     },
     "execution_count": 5,
     "metadata": {},
     "output_type": "execute_result"
    }
   ],
   "source": [
    "KETY_BBOX = [49.839258, 19.153293, 49.920978, 19.305325]\n",
    "x = get_street_points(\"Czaniecka\", KETY_BBOX)\n",
    "len(x)"
   ]
  },
  {
   "cell_type": "code",
   "execution_count": null,
   "metadata": {},
   "outputs": [],
   "source": []
  }
 ],
 "metadata": {
  "kernelspec": {
   "display_name": ".venv",
   "language": "python",
   "name": "python3"
  },
  "language_info": {
   "codemirror_mode": {
    "name": "ipython",
    "version": 3
   },
   "file_extension": ".py",
   "mimetype": "text/x-python",
   "name": "python",
   "nbconvert_exporter": "python",
   "pygments_lexer": "ipython3",
   "version": "3.7.9"
  },
  "orig_nbformat": 4,
  "vscode": {
   "interpreter": {
    "hash": "aa98e664301dc322f048da90108295bdc2b78ceb20e9b059b971340e8137d089"
   }
  }
 },
 "nbformat": 4,
 "nbformat_minor": 2
}
